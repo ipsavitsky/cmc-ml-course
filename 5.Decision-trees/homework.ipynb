{
 "cells": [
  {
   "cell_type": "markdown",
   "metadata": {
    "collapsed": true,
    "pycharm": {
     "name": "#%% md\n"
    }
   },
   "source": [
    "# Курс по машинному обучению,   ВМК МГУ\n",
    "## Деревья решений"
   ]
  },
  {
   "cell_type": "markdown",
   "metadata": {},
   "source": [
    "### Важно! О формате сдачи\n",
    "\n",
    "* **Практически все выделенные задания из ноутбука оцениваются по системе <font color='red'>кросс-рецензирования</font>. Задания, в котором надо реализовать свой код и послать в систему, выделены здесь и в pdf отдельно**\n",
    "* **Также в этом ноутбук есть задание на ML-решение**\n",
    "* **При решении ноутбука используйте данный шаблон. Не нужно удалять текстовые ячейки c разметкой частей ноутбука и формулировками заданий. Добавлять свои ячейки, при необходимости, конечно можно**\n",
    "* **Везде, где в формулровке задания есть какой-либо вопрос (или просьба вывода), необходимо прописать ответ в ячейку (код или markdown).**\n",
    "* **Наличие кода решения обязательно. Письменные ответы на вопросы без сопутствующего кода оцениваются в 0 баллов.**"
   ]
  },
  {
   "cell_type": "markdown",
   "metadata": {},
   "source": [
    "**А также..**\n",
    "\n",
    "Если в ячейке написана фраза \"Вывод\"/\"Ответ на вопрос\" итд, то ожидается ответ в виде текста (можете добавить ячейки с кодом, если считаете это необходимым, но это необязательно). Если в ячейке написано \"Your code here\", то ожидается ответ в виде кода (можете добавить ячейки с кодом, если считаете это необходимым, но это необязательно). Если есть и ячейка с фразой \"Вывод\", и ячейка с фразой \"Your code here\", то в ответе ожидается и код, и текст)"
   ]
  },
  {
   "cell_type": "markdown",
   "metadata": {},
   "source": [
    "__В этом задании вы..:__\n",
    "\n",
    "- Посмотрите глазами, как же работают деревья решений\n",
    "- Релизуете различные меры качества разбиения в вершине \n",
    "- Посмотрите на разные методы ансамблирования деревьев решений\n",
    "- Посмотрите на поведение качества ансамбля деревьев в зависимости от числа деревьев\n",
    "- Изучите, как получить из обученного дерева важность признаков\n",
    "- Порешаете интересную физическую задачку :)"
   ]
  },
  {
   "cell_type": "markdown",
   "metadata": {},
   "source": [
    "-------------------------------"
   ]
  },
  {
   "cell_type": "markdown",
   "metadata": {},
   "source": [
    "Привет, ребятушки!\n",
    "\n",
    "Сегодня мы с вами посмотрим на такую вещь, как деревья решений. Мы попытаемся понять принцип их работы, пощупать, исследовать влияние параметров и, самое главное, узнаем, какое свойство случайных лесов оказало сильное влияние на машинное обучение.\n",
    "\n",
    "Хочу обратить внимание, что в этом задании мы будем работать с регрессорами, однако все сделанные нами выводы верны также и для задач классификации.\n",
    "\n",
    "**Внимание! При решении задач разрешается использовать ``n_jobs`` для ускорения обучения.**\n",
    "\n",
    "**Внимание! Во всех заданиях в качестве целевой метрики используется MAE (средняя абсолютная ошибка).** Значение MAE вычисляется как\n",
    "\n",
    "$$\n",
    "  MAE = \\sum_{i = 1}^N\\dfrac{|a(x_i) - y_i|}{N},\n",
    "$$\n",
    "\n",
    "где $N$ - число объектов в тестовой выборке, $x_i$ - вектор признаков i-го объекта, $a(x_i)$ - предсказание на i-ом объекте, $y_i$ - значение целевого признака на i-м объекте.\n",
    "\n",
    "Для вычисления MAE можно использовать встроенную функцию sklearn.metrics.mean_absolute_error.\n",
    "\n",
    "Импортируем необходимые библиотеки:"
   ]
  },
  {
   "cell_type": "code",
   "execution_count": 1,
   "metadata": {
    "pycharm": {
     "name": "#%%\n"
    }
   },
   "outputs": [],
   "source": [
    "from sklearn.ensemble import RandomForestRegressor, ExtraTreesRegressor\n",
    "from sklearn.tree import DecisionTreeRegressor, plot_tree\n",
    "from sklearn.model_selection import train_test_split\n",
    "from sklearn.metrics import mean_absolute_error\n",
    "from sklearn.datasets import load_boston\n",
    "from sklearn.pipeline import Pipeline\n",
    "from sklearn.svm import LinearSVR\n",
    "from sklearn.preprocessing import StandardScaler\n",
    "\n",
    "import matplotlib.pyplot as plt\n",
    "\n",
    "#####\n",
    "# если вы не различаете предлагаемые цвета, то Вы можете раскомментить строку ниже\n",
    "# для применения специальной цветовой палитры или аналогичных\n",
    "# plt.style.use('tableau-colorblind10')\n",
    "#####\n",
    "\n",
    "import numpy as np\n",
    "import pandas as pd\n",
    "\n",
    "import seaborn as sns\n",
    "\n",
    "sns.set()\n",
    "\n",
    "import time\n",
    "import os\n",
    "\n",
    "import warnings\n",
    "\n",
    "warnings.filterwarnings(\"ignore\", category=FutureWarning)"
   ]
  },
  {
   "cell_type": "markdown",
   "metadata": {},
   "source": [
    "# Задание для проверяющей системы\n",
    "## Задание 0 (unit-тесты, 5 баллов)\n",
    "\n",
    "Как Вы знаете из лекций, решающие деревья на каждом шаге разбивают множество объектов на два подмножества, выбирая такой критерий, по которому разбиение наиболее оптимальное. В качестве меры качества таких разбиений могут выступать три меры: Gini, Entropy и Classification Error. Вам нужно реализовать все три меры качества и загрузить их реализацию в тестирующую систему cv-gml.ru, в задание `Деревья решений (unit-tests)`.\n",
    "\n",
    "Подробнее об этом задании вы можете прочитать в соответствующем .pdf файле."
   ]
  },
  {
   "cell_type": "markdown",
   "metadata": {},
   "source": [
    "## Как же работают деревья решений\n",
    "\n",
    "На лекции вам рассказывали, что деревья решений несколько раз дробят выборки, используя какие-то значения\n",
    "признаков, и таким образом строят цепочки условий для принятия решения. Давайте убедимся в этом лично.\n",
    "\n",
    "Загрузим датасет со стоимостью недвижимости в Бостоне, который нам понадобится для первых заданий:"
   ]
  },
  {
   "cell_type": "code",
   "execution_count": 2,
   "metadata": {
    "pycharm": {
     "name": "#%%\n"
    }
   },
   "outputs": [],
   "source": [
    "def get_boston_dataset():\n",
    "    \"\"\"Return the splits of the Boston dataset for training and testing\"\"\"\n",
    "    X, y = load_boston(return_X_y=True)\n",
    "    return train_test_split(X, y, random_state=42)\n",
    "\n",
    "\n",
    "X_train, X_test, y_train, y_test = get_boston_dataset()"
   ]
  },
  {
   "cell_type": "markdown",
   "metadata": {},
   "source": [
    "### Задание 1 (кросс-проверка, 2 балла)\n",
    "**Данные**: датасет со стоимостью недвижимости в Бостоне  \n",
    "**Цели**: В данном задании следует выполнить следующие пункты:\n",
    "\n",
    "1. Обучить ``DecisionTreeRegressor`` на обучающей выборке, установив ``random_state=0``. Ограничить максимальную глубину дерева до 3, чтобы получившаяся визуализация не была слишком большой.\n",
    "1. При помощи функции sklearn.tree.plot_tree визуализировать получившееся дерево. Можете передать load_boston().feature_names для улучшения визуализации. Для того чтобы визуализация выглядела лучше, можете воспользоваться аргументом fontsize, а также установить  ``plt.figure(figsize=(X,Y))``.\n",
    "1. Взять любой объект из тестовой выборки. Предсказать его цену при помощи функции .predict обученного регрессора, а затем, воспользовавшись полученной визуализацией, опишите правила, по которым дерево сделало свой вывод. Опишите словами эти решения ниже."
   ]
  },
  {
   "cell_type": "code",
   "execution_count": 3,
   "metadata": {
    "pycharm": {
     "name": "#%%\n"
    }
   },
   "outputs": [
    {
     "data": {
      "text/html": [
       "<style>#sk-container-id-1 {color: black;background-color: white;}#sk-container-id-1 pre{padding: 0;}#sk-container-id-1 div.sk-toggleable {background-color: white;}#sk-container-id-1 label.sk-toggleable__label {cursor: pointer;display: block;width: 100%;margin-bottom: 0;padding: 0.3em;box-sizing: border-box;text-align: center;}#sk-container-id-1 label.sk-toggleable__label-arrow:before {content: \"▸\";float: left;margin-right: 0.25em;color: #696969;}#sk-container-id-1 label.sk-toggleable__label-arrow:hover:before {color: black;}#sk-container-id-1 div.sk-estimator:hover label.sk-toggleable__label-arrow:before {color: black;}#sk-container-id-1 div.sk-toggleable__content {max-height: 0;max-width: 0;overflow: hidden;text-align: left;background-color: #f0f8ff;}#sk-container-id-1 div.sk-toggleable__content pre {margin: 0.2em;color: black;border-radius: 0.25em;background-color: #f0f8ff;}#sk-container-id-1 input.sk-toggleable__control:checked~div.sk-toggleable__content {max-height: 200px;max-width: 100%;overflow: auto;}#sk-container-id-1 input.sk-toggleable__control:checked~label.sk-toggleable__label-arrow:before {content: \"▾\";}#sk-container-id-1 div.sk-estimator input.sk-toggleable__control:checked~label.sk-toggleable__label {background-color: #d4ebff;}#sk-container-id-1 div.sk-label input.sk-toggleable__control:checked~label.sk-toggleable__label {background-color: #d4ebff;}#sk-container-id-1 input.sk-hidden--visually {border: 0;clip: rect(1px 1px 1px 1px);clip: rect(1px, 1px, 1px, 1px);height: 1px;margin: -1px;overflow: hidden;padding: 0;position: absolute;width: 1px;}#sk-container-id-1 div.sk-estimator {font-family: monospace;background-color: #f0f8ff;border: 1px dotted black;border-radius: 0.25em;box-sizing: border-box;margin-bottom: 0.5em;}#sk-container-id-1 div.sk-estimator:hover {background-color: #d4ebff;}#sk-container-id-1 div.sk-parallel-item::after {content: \"\";width: 100%;border-bottom: 1px solid gray;flex-grow: 1;}#sk-container-id-1 div.sk-label:hover label.sk-toggleable__label {background-color: #d4ebff;}#sk-container-id-1 div.sk-serial::before {content: \"\";position: absolute;border-left: 1px solid gray;box-sizing: border-box;top: 0;bottom: 0;left: 50%;z-index: 0;}#sk-container-id-1 div.sk-serial {display: flex;flex-direction: column;align-items: center;background-color: white;padding-right: 0.2em;padding-left: 0.2em;position: relative;}#sk-container-id-1 div.sk-item {position: relative;z-index: 1;}#sk-container-id-1 div.sk-parallel {display: flex;align-items: stretch;justify-content: center;background-color: white;position: relative;}#sk-container-id-1 div.sk-item::before, #sk-container-id-1 div.sk-parallel-item::before {content: \"\";position: absolute;border-left: 1px solid gray;box-sizing: border-box;top: 0;bottom: 0;left: 50%;z-index: -1;}#sk-container-id-1 div.sk-parallel-item {display: flex;flex-direction: column;z-index: 1;position: relative;background-color: white;}#sk-container-id-1 div.sk-parallel-item:first-child::after {align-self: flex-end;width: 50%;}#sk-container-id-1 div.sk-parallel-item:last-child::after {align-self: flex-start;width: 50%;}#sk-container-id-1 div.sk-parallel-item:only-child::after {width: 0;}#sk-container-id-1 div.sk-dashed-wrapped {border: 1px dashed gray;margin: 0 0.4em 0.5em 0.4em;box-sizing: border-box;padding-bottom: 0.4em;background-color: white;}#sk-container-id-1 div.sk-label label {font-family: monospace;font-weight: bold;display: inline-block;line-height: 1.2em;}#sk-container-id-1 div.sk-label-container {text-align: center;}#sk-container-id-1 div.sk-container {/* jupyter's `normalize.less` sets `[hidden] { display: none; }` but bootstrap.min.css set `[hidden] { display: none !important; }` so we also need the `!important` here to be able to override the default hidden behavior on the sphinx rendered scikit-learn.org. See: https://github.com/scikit-learn/scikit-learn/issues/21755 */display: inline-block !important;position: relative;}#sk-container-id-1 div.sk-text-repr-fallback {display: none;}</style><div id=\"sk-container-id-1\" class=\"sk-top-container\"><div class=\"sk-text-repr-fallback\"><pre>DecisionTreeRegressor(max_depth=3, random_state=0)</pre><b>In a Jupyter environment, please rerun this cell to show the HTML representation or trust the notebook. <br />On GitHub, the HTML representation is unable to render, please try loading this page with nbviewer.org.</b></div><div class=\"sk-container\" hidden><div class=\"sk-item\"><div class=\"sk-estimator sk-toggleable\"><input class=\"sk-toggleable__control sk-hidden--visually\" id=\"sk-estimator-id-1\" type=\"checkbox\" checked><label for=\"sk-estimator-id-1\" class=\"sk-toggleable__label sk-toggleable__label-arrow\">DecisionTreeRegressor</label><div class=\"sk-toggleable__content\"><pre>DecisionTreeRegressor(max_depth=3, random_state=0)</pre></div></div></div></div></div>"
      ],
      "text/plain": [
       "DecisionTreeRegressor(max_depth=3, random_state=0)"
      ]
     },
     "execution_count": 3,
     "metadata": {},
     "output_type": "execute_result"
    }
   ],
   "source": [
    "decision_tree_regressor = DecisionTreeRegressor(max_depth=3, random_state=0)\n",
    "decision_tree_regressor.fit(X_train, y_train)"
   ]
  },
  {
   "cell_type": "code",
   "execution_count": 4,
   "metadata": {},
   "outputs": [
    {
     "data": {
      "text/plain": [
       "[Text(0.5, 0.875, 'X[5] <= 6.941\\nsquared_error = 88.682\\nsamples = 379\\nvalue = 22.908'),\n",
       " Text(0.25, 0.625, 'X[12] <= 14.4\\nsquared_error = 40.363\\nsamples = 314\\nvalue = 19.954'),\n",
       " Text(0.125, 0.375, 'X[7] <= 1.385\\nsquared_error = 26.28\\nsamples = 187\\nvalue = 23.394'),\n",
       " Text(0.0625, 0.125, 'squared_error = 91.577\\nsamples = 4\\nvalue = 44.475'),\n",
       " Text(0.1875, 0.125, 'squared_error = 14.927\\nsamples = 183\\nvalue = 22.933'),\n",
       " Text(0.375, 0.375, 'X[0] <= 7.084\\nsquared_error = 18.04\\nsamples = 127\\nvalue = 14.891'),\n",
       " Text(0.3125, 0.125, 'squared_error = 10.405\\nsamples = 75\\nvalue = 17.104'),\n",
       " Text(0.4375, 0.125, 'squared_error = 11.794\\nsamples = 52\\nvalue = 11.698'),\n",
       " Text(0.75, 0.625, 'X[5] <= 7.437\\nsquared_error = 76.4\\nsamples = 65\\nvalue = 37.175'),\n",
       " Text(0.625, 0.375, 'X[12] <= 15.765\\nsquared_error = 39.248\\nsamples = 40\\nvalue = 32.383'),\n",
       " Text(0.5625, 0.125, 'squared_error = 22.076\\nsamples = 38\\nvalue = 33.345'),\n",
       " Text(0.6875, 0.125, 'squared_error = 13.69\\nsamples = 2\\nvalue = 14.1'),\n",
       " Text(0.875, 0.375, 'X[8] <= 16.0\\nsquared_error = 40.279\\nsamples = 25\\nvalue = 44.844'),\n",
       " Text(0.8125, 0.125, 'squared_error = 19.109\\nsamples = 24\\nvalue = 45.8'),\n",
       " Text(0.9375, 0.125, 'squared_error = 0.0\\nsamples = 1\\nvalue = 21.9')]"
      ]
     },
     "execution_count": 4,
     "metadata": {},
     "output_type": "execute_result"
    },
    {
     "data": {
      "image/png": "[encoded data removed]",
      "text/plain": [
       "<Figure size 1280x720 with 1 Axes>"
      ]
     },
     "metadata": {},
     "output_type": "display_data"
    }
   ],
   "source": [
    "plt.figure(figsize=(1280 / 96, 720 / 96), dpi=96)\n",
    "plot_tree(decision_tree_regressor, max_depth=3)"
   ]
  },
  {
   "cell_type": "code",
   "execution_count": 5,
   "metadata": {},
   "outputs": [
    {
     "name": "stdout",
     "output_type": "stream",
     "text": [
      "[5.1880e-02 0.0000e+00 4.4900e+00 0.0000e+00 4.4900e-01 6.0150e+00\n",
      " 4.5100e+01 4.4272e+00 3.0000e+00 2.4700e+02 1.8500e+01 3.9599e+02\n",
      " 1.2860e+01]\n",
      "22.5\n",
      "22.932786885245907\n"
     ]
    }
   ],
   "source": [
    "print(X_test[100])\n",
    "print(y_test[100])\n",
    "ret = decision_tree_regressor.predict(X_test)\n",
    "print(ret[100])"
   ]
  },
  {
   "cell_type": "markdown",
   "metadata": {},
   "source": [
    "**Ответ на вопрос (о том как предсказывается значение на объекте):** \n",
    "\n",
    "Первое правило: `X[5] = 6.0150e+00 <= 6.941` - правда, ответвляемся влево\n",
    "\n",
    "Второе правило: `X[12] = 1.2860e+01 <= 14.4` - правда, ответвляемся влево\n",
    "\n",
    "Третье правило: `X[7] = 4.4272e+00 <= 1.385` - неправда, ответвляемся вправо\n",
    "\n",
    "Получили `value = 22.933`"
   ]
  },
  {
   "cell_type": "markdown",
   "metadata": {},
   "source": [
    "Мы смогли убедиться, что дерево решений действительно строит систему правил, по которым предсказывает цену квартиры. Также мы можем убедиться, что множество возможных предсказаний регрессора сильно ограничено: все они перечислены в листовых вершинах графа. Но в чем же тогда сила деревьев решений, брат? Давайте разбираться дальше."
   ]
  },
  {
   "cell_type": "markdown",
   "metadata": {
    "pycharm": {
     "name": "#%% md\n"
    }
   },
   "source": [
    "## Ансамбли решений\n",
    "\n",
    "Теорема Кондорсе о присяжных (ознакомиться можно [здесь](https://neerc.ifmo.ru/wiki/index.php?title=%D0%92%D0%B8%D0%B4%D1%8B_%D0%B0%D0%BD%D1%81%D0%B0%D0%BC%D0%B1%D0%BB%D0%B5%D0%B9#.D0.A2.D0.B5.D0.BE.D1.80.D0.B5.D0.BC.D0.B0_.D0.9A.D0.BE.D0.BD.D0.B4.D0.BE.D1.80.D1.81.D0.B5_.D0.BE_.D0.BF.D1.80.D0.B8.D1.81.D1.8F.D0.B6.D0.BD.D1.8B.D1.85)), переведённая на язык машинного обучения, гласит, что если у нас имеется некоторое количество различных методов, каждый из которых предсказывает величину лучше, чем случайно, то голосование таких методов работает лучше, чем любой из этих методов по отдельности. Давайте попробуем на простом примере проверить эту теорему.\n",
    "\n",
    "### Задание 2.1 (кросс-проверка, 2 балла)\n",
    "**Данные**: датасет со стоимостью недвижимости в Бостоне  \n",
    "**Метрика качества**: MAE  \n",
    "**Цели**: В данном задании следует выполнить следующие пункты:  \n",
    "1. Обучить 3 дерева решений, для каждого при инициализации установить `random_state` равный 1, 2 и 3. В этот раз ограничивать глубину деревьев не нужно.\n",
    "1. Получить предсказание для тестовой выборки от каждого регрессора, а также получить ``усреднённое`` предсказание.\n",
    "1. Посчитать MAE для каждого из деревьев, полученных в первом пункте, а также для усреднённых предсказаний. Сделать вывод о том, стало лучше или нет."
   ]
  },
  {
   "cell_type": "code",
   "execution_count": 6,
   "metadata": {
    "pycharm": {
     "name": "#%%\n"
    }
   },
   "outputs": [
    {
     "data": {
      "text/html": [
       "<style>#sk-container-id-2 {color: black;background-color: white;}#sk-container-id-2 pre{padding: 0;}#sk-container-id-2 div.sk-toggleable {background-color: white;}#sk-container-id-2 label.sk-toggleable__label {cursor: pointer;display: block;width: 100%;margin-bottom: 0;padding: 0.3em;box-sizing: border-box;text-align: center;}#sk-container-id-2 label.sk-toggleable__label-arrow:before {content: \"▸\";float: left;margin-right: 0.25em;color: #696969;}#sk-container-id-2 label.sk-toggleable__label-arrow:hover:before {color: black;}#sk-container-id-2 div.sk-estimator:hover label.sk-toggleable__label-arrow:before {color: black;}#sk-container-id-2 div.sk-toggleable__content {max-height: 0;max-width: 0;overflow: hidden;text-align: left;background-color: #f0f8ff;}#sk-container-id-2 div.sk-toggleable__content pre {margin: 0.2em;color: black;border-radius: 0.25em;background-color: #f0f8ff;}#sk-container-id-2 input.sk-toggleable__control:checked~div.sk-toggleable__content {max-height: 200px;max-width: 100%;overflow: auto;}#sk-container-id-2 input.sk-toggleable__control:checked~label.sk-toggleable__label-arrow:before {content: \"▾\";}#sk-container-id-2 div.sk-estimator input.sk-toggleable__control:checked~label.sk-toggleable__label {background-color: #d4ebff;}#sk-container-id-2 div.sk-label input.sk-toggleable__control:checked~label.sk-toggleable__label {background-color: #d4ebff;}#sk-container-id-2 input.sk-hidden--visually {border: 0;clip: rect(1px 1px 1px 1px);clip: rect(1px, 1px, 1px, 1px);height: 1px;margin: -1px;overflow: hidden;padding: 0;position: absolute;width: 1px;}#sk-container-id-2 div.sk-estimator {font-family: monospace;background-color: #f0f8ff;border: 1px dotted black;border-radius: 0.25em;box-sizing: border-box;margin-bottom: 0.5em;}#sk-container-id-2 div.sk-estimator:hover {background-color: #d4ebff;}#sk-container-id-2 div.sk-parallel-item::after {content: \"\";width: 100%;border-bottom: 1px solid gray;flex-grow: 1;}#sk-container-id-2 div.sk-label:hover label.sk-toggleable__label {background-color: #d4ebff;}#sk-container-id-2 div.sk-serial::before {content: \"\";position: absolute;border-left: 1px solid gray;box-sizing: border-box;top: 0;bottom: 0;left: 50%;z-index: 0;}#sk-container-id-2 div.sk-serial {display: flex;flex-direction: column;align-items: center;background-color: white;padding-right: 0.2em;padding-left: 0.2em;position: relative;}#sk-container-id-2 div.sk-item {position: relative;z-index: 1;}#sk-container-id-2 div.sk-parallel {display: flex;align-items: stretch;justify-content: center;background-color: white;position: relative;}#sk-container-id-2 div.sk-item::before, #sk-container-id-2 div.sk-parallel-item::before {content: \"\";position: absolute;border-left: 1px solid gray;box-sizing: border-box;top: 0;bottom: 0;left: 50%;z-index: -1;}#sk-container-id-2 div.sk-parallel-item {display: flex;flex-direction: column;z-index: 1;position: relative;background-color: white;}#sk-container-id-2 div.sk-parallel-item:first-child::after {align-self: flex-end;width: 50%;}#sk-container-id-2 div.sk-parallel-item:last-child::after {align-self: flex-start;width: 50%;}#sk-container-id-2 div.sk-parallel-item:only-child::after {width: 0;}#sk-container-id-2 div.sk-dashed-wrapped {border: 1px dashed gray;margin: 0 0.4em 0.5em 0.4em;box-sizing: border-box;padding-bottom: 0.4em;background-color: white;}#sk-container-id-2 div.sk-label label {font-family: monospace;font-weight: bold;display: inline-block;line-height: 1.2em;}#sk-container-id-2 div.sk-label-container {text-align: center;}#sk-container-id-2 div.sk-container {/* jupyter's `normalize.less` sets `[hidden] { display: none; }` but bootstrap.min.css set `[hidden] { display: none !important; }` so we also need the `!important` here to be able to override the default hidden behavior on the sphinx rendered scikit-learn.org. See: https://github.com/scikit-learn/scikit-learn/issues/21755 */display: inline-block !important;position: relative;}#sk-container-id-2 div.sk-text-repr-fallback {display: none;}</style><div id=\"sk-container-id-2\" class=\"sk-top-container\"><div class=\"sk-text-repr-fallback\"><pre>DecisionTreeRegressor(random_state=3)</pre><b>In a Jupyter environment, please rerun this cell to show the HTML representation or trust the notebook. <br />On GitHub, the HTML representation is unable to render, please try loading this page with nbviewer.org.</b></div><div class=\"sk-container\" hidden><div class=\"sk-item\"><div class=\"sk-estimator sk-toggleable\"><input class=\"sk-toggleable__control sk-hidden--visually\" id=\"sk-estimator-id-2\" type=\"checkbox\" checked><label for=\"sk-estimator-id-2\" class=\"sk-toggleable__label sk-toggleable__label-arrow\">DecisionTreeRegressor</label><div class=\"sk-toggleable__content\"><pre>DecisionTreeRegressor(random_state=3)</pre></div></div></div></div></div>"
      ],
      "text/plain": [
       "DecisionTreeRegressor(random_state=3)"
      ]
     },
     "execution_count": 6,
     "metadata": {},
     "output_type": "execute_result"
    }
   ],
   "source": [
    "tree1 = DecisionTreeRegressor(random_state=1)\n",
    "tree2 = DecisionTreeRegressor(random_state=2)\n",
    "tree3 = DecisionTreeRegressor(random_state=3)\n",
    "\n",
    "tree1.fit(X_train, y_train)\n",
    "tree2.fit(X_train, y_train)\n",
    "tree3.fit(X_train, y_train)"
   ]
  },
  {
   "cell_type": "code",
   "execution_count": 7,
   "metadata": {},
   "outputs": [],
   "source": [
    "prediction1 = tree1.predict(X_test)\n",
    "prediction2 = tree2.predict(X_test)\n",
    "prediction3 = tree3.predict(X_test)\n",
    "mean_prediction = np.mean(np.array([prediction1, prediction2, prediction3]), axis=0)"
   ]
  },
  {
   "cell_type": "code",
   "execution_count": 8,
   "metadata": {},
   "outputs": [
    {
     "name": "stdout",
     "output_type": "stream",
     "text": [
      "err1 = 2.6259842519685033\n",
      "err2 = 2.705511811023621\n",
      "err3 = 2.61259842519685\n",
      "mean_err = 2.510498687664041\n"
     ]
    }
   ],
   "source": [
    "err1 = mean_absolute_error(y_test, prediction1)\n",
    "err2 = mean_absolute_error(y_test, prediction2)\n",
    "err3 = mean_absolute_error(y_test, prediction3)\n",
    "mean_err = mean_absolute_error(y_test, mean_prediction)\n",
    "print(f\"err1 = {err1}\\nerr2 = {err2}\\nerr3 = {err3}\\nmean_err = {mean_err}\")"
   ]
  },
  {
   "cell_type": "markdown",
   "metadata": {
    "pycharm": {
     "name": "#%% md\n"
    }
   },
   "source": [
    "Надеюсь, мы смогли убедиться, что это действительно работает. Правда, улучшение достаточно маленькое. Для революции в машинном обучении этого еще недостаточно.\n",
    "\n",
    "А что влияет на улучшение, которое мы получаем при использовании ансамбля методов? Соответствующая теорема дает достаточно простой ответ: различность методов и ведет к улучшению. Если у нас есть много методов, предсказания которых отличаются незначительно, то их усреднение практически ничего не изменит. Если же у нас есть множество достаточно разных методов, то и их усреднение будет отличаться от предсказаний каждого отдельного метода. Видимо, random_state было недостаточно. Как же нам еще сильнее увеличить различность методов? Ответ вы знаете: использовать случайные признаки и случайную выборку объектов. Это приводит нас к случайным лесам.\n",
    "\n",
    "### Задание 2.2 (кросс-проверка, 1 балл)\n",
    "**Данные**: датасет со стоимостью недвижимости в Бостоне  \n",
    "**Метрика качества**: MAE  \n",
    "**Цели**: В данном задании следует выполнить следующие пункты:  \n",
    "\n",
    "1. Обучить RandomForestRegressor. Для честности следует установить ``n_estimators=3``, то есть сделать число деревьев равным 3 (как мы сделали в предыдущем задании). Для однородности также поставьте ``random_state = 0``\n",
    "1. Посчитать MAE полученных предсказаний. Сравнить их с результатами, полученными в предыдущем пункте. Сделайте вывод."
   ]
  },
  {
   "cell_type": "code",
   "execution_count": 9,
   "metadata": {
    "pycharm": {
     "name": "#%%\n"
    }
   },
   "outputs": [
    {
     "data": {
      "text/html": [
       "<style>#sk-container-id-3 {color: black;background-color: white;}#sk-container-id-3 pre{padding: 0;}#sk-container-id-3 div.sk-toggleable {background-color: white;}#sk-container-id-3 label.sk-toggleable__label {cursor: pointer;display: block;width: 100%;margin-bottom: 0;padding: 0.3em;box-sizing: border-box;text-align: center;}#sk-container-id-3 label.sk-toggleable__label-arrow:before {content: \"▸\";float: left;margin-right: 0.25em;color: #696969;}#sk-container-id-3 label.sk-toggleable__label-arrow:hover:before {color: black;}#sk-container-id-3 div.sk-estimator:hover label.sk-toggleable__label-arrow:before {color: black;}#sk-container-id-3 div.sk-toggleable__content {max-height: 0;max-width: 0;overflow: hidden;text-align: left;background-color: #f0f8ff;}#sk-container-id-3 div.sk-toggleable__content pre {margin: 0.2em;color: black;border-radius: 0.25em;background-color: #f0f8ff;}#sk-container-id-3 input.sk-toggleable__control:checked~div.sk-toggleable__content {max-height: 200px;max-width: 100%;overflow: auto;}#sk-container-id-3 input.sk-toggleable__control:checked~label.sk-toggleable__label-arrow:before {content: \"▾\";}#sk-container-id-3 div.sk-estimator input.sk-toggleable__control:checked~label.sk-toggleable__label {background-color: #d4ebff;}#sk-container-id-3 div.sk-label input.sk-toggleable__control:checked~label.sk-toggleable__label {background-color: #d4ebff;}#sk-container-id-3 input.sk-hidden--visually {border: 0;clip: rect(1px 1px 1px 1px);clip: rect(1px, 1px, 1px, 1px);height: 1px;margin: -1px;overflow: hidden;padding: 0;position: absolute;width: 1px;}#sk-container-id-3 div.sk-estimator {font-family: monospace;background-color: #f0f8ff;border: 1px dotted black;border-radius: 0.25em;box-sizing: border-box;margin-bottom: 0.5em;}#sk-container-id-3 div.sk-estimator:hover {background-color: #d4ebff;}#sk-container-id-3 div.sk-parallel-item::after {content: \"\";width: 100%;border-bottom: 1px solid gray;flex-grow: 1;}#sk-container-id-3 div.sk-label:hover label.sk-toggleable__label {background-color: #d4ebff;}#sk-container-id-3 div.sk-serial::before {content: \"\";position: absolute;border-left: 1px solid gray;box-sizing: border-box;top: 0;bottom: 0;left: 50%;z-index: 0;}#sk-container-id-3 div.sk-serial {display: flex;flex-direction: column;align-items: center;background-color: white;padding-right: 0.2em;padding-left: 0.2em;position: relative;}#sk-container-id-3 div.sk-item {position: relative;z-index: 1;}#sk-container-id-3 div.sk-parallel {display: flex;align-items: stretch;justify-content: center;background-color: white;position: relative;}#sk-container-id-3 div.sk-item::before, #sk-container-id-3 div.sk-parallel-item::before {content: \"\";position: absolute;border-left: 1px solid gray;box-sizing: border-box;top: 0;bottom: 0;left: 50%;z-index: -1;}#sk-container-id-3 div.sk-parallel-item {display: flex;flex-direction: column;z-index: 1;position: relative;background-color: white;}#sk-container-id-3 div.sk-parallel-item:first-child::after {align-self: flex-end;width: 50%;}#sk-container-id-3 div.sk-parallel-item:last-child::after {align-self: flex-start;width: 50%;}#sk-container-id-3 div.sk-parallel-item:only-child::after {width: 0;}#sk-container-id-3 div.sk-dashed-wrapped {border: 1px dashed gray;margin: 0 0.4em 0.5em 0.4em;box-sizing: border-box;padding-bottom: 0.4em;background-color: white;}#sk-container-id-3 div.sk-label label {font-family: monospace;font-weight: bold;display: inline-block;line-height: 1.2em;}#sk-container-id-3 div.sk-label-container {text-align: center;}#sk-container-id-3 div.sk-container {/* jupyter's `normalize.less` sets `[hidden] { display: none; }` but bootstrap.min.css set `[hidden] { display: none !important; }` so we also need the `!important` here to be able to override the default hidden behavior on the sphinx rendered scikit-learn.org. See: https://github.com/scikit-learn/scikit-learn/issues/21755 */display: inline-block !important;position: relative;}#sk-container-id-3 div.sk-text-repr-fallback {display: none;}</style><div id=\"sk-container-id-3\" class=\"sk-top-container\"><div class=\"sk-text-repr-fallback\"><pre>RandomForestRegressor(n_estimators=3, random_state=0)</pre><b>In a Jupyter environment, please rerun this cell to show the HTML representation or trust the notebook. <br />On GitHub, the HTML representation is unable to render, please try loading this page with nbviewer.org.</b></div><div class=\"sk-container\" hidden><div class=\"sk-item\"><div class=\"sk-estimator sk-toggleable\"><input class=\"sk-toggleable__control sk-hidden--visually\" id=\"sk-estimator-id-3\" type=\"checkbox\" checked><label for=\"sk-estimator-id-3\" class=\"sk-toggleable__label sk-toggleable__label-arrow\">RandomForestRegressor</label><div class=\"sk-toggleable__content\"><pre>RandomForestRegressor(n_estimators=3, random_state=0)</pre></div></div></div></div></div>"
      ],
      "text/plain": [
       "RandomForestRegressor(n_estimators=3, random_state=0)"
      ]
     },
     "execution_count": 9,
     "metadata": {},
     "output_type": "execute_result"
    }
   ],
   "source": [
    "forest1 = RandomForestRegressor(n_estimators=3, random_state=0)\n",
    "forest1.fit(X_train, y_train)"
   ]
  },
  {
   "cell_type": "code",
   "execution_count": 10,
   "metadata": {},
   "outputs": [
    {
     "name": "stdout",
     "output_type": "stream",
     "text": [
      "2.5585301837270342\n"
     ]
    }
   ],
   "source": [
    "prediction = forest1.predict(X_test)\n",
    "err = mean_absolute_error(y_test, prediction)\n",
    "print(err)"
   ]
  },
  {
   "cell_type": "markdown",
   "metadata": {},
   "source": [
    "**Вывод по результату**:\n",
    "\n",
    "Стало _чуть-чуть_ хуже, но мы неудачно попали с `random_state = 42`, в основном лес их трех деревьев показывает себя лучше чем усреднение трех деревьев"
   ]
  },
  {
   "cell_type": "markdown",
   "metadata": {},
   "source": [
    "Для революции и этого, кажется, маловато. Давайте продолжим исследовать случайные леса."
   ]
  },
  {
   "cell_type": "markdown",
   "metadata": {
    "pycharm": {
     "name": "#%% md\n"
    }
   },
   "source": [
    "## Переобучение и зависимость предсказаний от числа деревьев\n",
    "\n",
    "В прошлом задании мы вручную установили число деревьев в лесу равное трем, чтобы более честно сравниваться с нашим предыдущим ансамблем. Давайте изучим влияние этого параметра на результат предсказаний.\n",
    "\n",
    "### Задание 3.1 (кросс-проверка, 5 баллов)\n",
    "**Данные**: датасет со стоимостью недвижимости в Бостоне   \n",
    "**Метрика качества**: MAE  \n",
    "**Цели**: В данном задании следует выполнить следующие пункты:  \n",
    "1. Обучите 10 случайных лесов, установив random_state=42 и замерив время, потраченное на обучение. Для обучаемых лесов, используйте число деревьев (`n_estimators`) из `np.logspace(1, 4, num=10)` (округлите значения вниз до целых чисел). Таким образом мы получим оценку результата для лесов, построенных с различным числом деревьев.\n",
    "1. Для всех 10 лесов посчитайте MAE на тренировочном и тестовом множествах.\n",
    "1. Постройте график для отображения зависимости времени обучения от числа деревьев в лесу. Вдоль оси Ox отложите число деревьев, участвующих в обучении. На оси Oy отложите время, потраченное на обучение.\n",
    "1. Постройте график для отображения зависимости значения MAE от числа деревьев в лесу. Вдоль оси Ox отложите число деревьев, участвующих в обучении. На оси Oy отложите одним цветом значение MAE на тренировочном множестве, другим цветом MAE на тестовом множестве.\n",
    "1. Проанализируйте результаты и графики, сделайте выводы про время обучения при различном числе деревьев и про качество результатов (в частности - переобучение)"
   ]
  },
  {
   "cell_type": "code",
   "execution_count": 11,
   "metadata": {
    "pycharm": {
     "name": "#%%\n"
    }
   },
   "outputs": [],
   "source": [
    "forest_list = list()\n",
    "for num_trees in np.logspace(1, 4, num=10):\n",
    "    start_time = time.time()\n",
    "    cur_tree = RandomForestRegressor(n_estimators=int(num_trees), random_state=42)\n",
    "    cur_tree.fit(X_train, y_train)\n",
    "    stop_time = time.time()\n",
    "    forest_list.append(\n",
    "        {\n",
    "            \"n_estimators\": int(num_trees),\n",
    "            \"time_to_fit\": stop_time - start_time,\n",
    "            \"tree\": cur_tree,\n",
    "        }\n",
    "    )"
   ]
  },
  {
   "cell_type": "code",
   "execution_count": 12,
   "metadata": {},
   "outputs": [],
   "source": [
    "for forest in forest_list:\n",
    "    predict = forest[\"tree\"].predict(X_test)\n",
    "    forest[\"predict_on_test\"] = predict\n",
    "    predict = forest[\"tree\"].predict(X_train)\n",
    "    forest[\"predict_on_train\"] = predict"
   ]
  },
  {
   "cell_type": "code",
   "execution_count": 13,
   "metadata": {},
   "outputs": [],
   "source": [
    "for forest in forest_list:\n",
    "    cur_mae = mean_absolute_error(y_test, forest[\"predict_on_test\"])\n",
    "    forest[\"mae_on_test\"] = cur_mae\n",
    "    cur_mae = mean_absolute_error(y_train, forest[\"predict_on_train\"])\n",
    "    forest[\"mae_on_train\"] = cur_mae"
   ]
  },
  {
   "cell_type": "code",
   "execution_count": 14,
   "metadata": {},
   "outputs": [],
   "source": [
    "forest_measurements = pd.DataFrame(forest_list)"
   ]
  },
  {
   "cell_type": "code",
   "execution_count": 15,
   "metadata": {},
   "outputs": [
    {
     "data": {
      "text/plain": [
       "<AxesSubplot: xlabel='n_estimators', ylabel='time_to_fit'>"
      ]
     },
     "execution_count": 15,
     "metadata": {},
     "output_type": "execute_result"
    },
    {
     "data": {
      "image/png": "[encoded data removed]",
      "text/plain": [
       "<Figure size 640x480 with 1 Axes>"
      ]
     },
     "metadata": {},
     "output_type": "display_data"
    }
   ],
   "source": [
    "sns.pointplot(data=forest_measurements, x=\"n_estimators\", y=\"time_to_fit\")"
   ]
  },
  {
   "cell_type": "code",
   "execution_count": 16,
   "metadata": {},
   "outputs": [
    {
     "data": {
      "text/html": [
       "<div>\n",
       "<style scoped>\n",
       "    .dataframe tbody tr th:only-of-type {\n",
       "        vertical-align: middle;\n",
       "    }\n",
       "\n",
       "    .dataframe tbody tr th {\n",
       "        vertical-align: top;\n",
       "    }\n",
       "\n",
       "    .dataframe thead th {\n",
       "        text-align: right;\n",
       "    }\n",
       "</style>\n",
       "<table border=\"1\" class=\"dataframe\">\n",
       "  <thead>\n",
       "    <tr style=\"text-align: right;\">\n",
       "      <th></th>\n",
       "      <th>n_estimators</th>\n",
       "      <th>variable</th>\n",
       "      <th>value</th>\n",
       "    </tr>\n",
       "  </thead>\n",
       "  <tbody>\n",
       "    <tr>\n",
       "      <th>0</th>\n",
       "      <td>10</td>\n",
       "      <td>mae_on_test</td>\n",
       "      <td>2.239449</td>\n",
       "    </tr>\n",
       "    <tr>\n",
       "      <th>1</th>\n",
       "      <td>21</td>\n",
       "      <td>mae_on_test</td>\n",
       "      <td>2.136558</td>\n",
       "    </tr>\n",
       "    <tr>\n",
       "      <th>2</th>\n",
       "      <td>46</td>\n",
       "      <td>mae_on_test</td>\n",
       "      <td>2.155632</td>\n",
       "    </tr>\n",
       "    <tr>\n",
       "      <th>3</th>\n",
       "      <td>100</td>\n",
       "      <td>mae_on_test</td>\n",
       "      <td>2.148126</td>\n",
       "    </tr>\n",
       "    <tr>\n",
       "      <th>4</th>\n",
       "      <td>215</td>\n",
       "      <td>mae_on_test</td>\n",
       "      <td>2.119443</td>\n",
       "    </tr>\n",
       "    <tr>\n",
       "      <th>5</th>\n",
       "      <td>464</td>\n",
       "      <td>mae_on_test</td>\n",
       "      <td>2.130099</td>\n",
       "    </tr>\n",
       "    <tr>\n",
       "      <th>6</th>\n",
       "      <td>1000</td>\n",
       "      <td>mae_on_test</td>\n",
       "      <td>2.122411</td>\n",
       "    </tr>\n",
       "    <tr>\n",
       "      <th>7</th>\n",
       "      <td>2154</td>\n",
       "      <td>mae_on_test</td>\n",
       "      <td>2.110636</td>\n",
       "    </tr>\n",
       "    <tr>\n",
       "      <th>8</th>\n",
       "      <td>4641</td>\n",
       "      <td>mae_on_test</td>\n",
       "      <td>2.111812</td>\n",
       "    </tr>\n",
       "    <tr>\n",
       "      <th>9</th>\n",
       "      <td>10000</td>\n",
       "      <td>mae_on_test</td>\n",
       "      <td>2.111416</td>\n",
       "    </tr>\n",
       "    <tr>\n",
       "      <th>10</th>\n",
       "      <td>10</td>\n",
       "      <td>mae_on_train</td>\n",
       "      <td>1.025040</td>\n",
       "    </tr>\n",
       "    <tr>\n",
       "      <th>11</th>\n",
       "      <td>21</td>\n",
       "      <td>mae_on_train</td>\n",
       "      <td>0.933233</td>\n",
       "    </tr>\n",
       "    <tr>\n",
       "      <th>12</th>\n",
       "      <td>46</td>\n",
       "      <td>mae_on_train</td>\n",
       "      <td>0.937358</td>\n",
       "    </tr>\n",
       "    <tr>\n",
       "      <th>13</th>\n",
       "      <td>100</td>\n",
       "      <td>mae_on_train</td>\n",
       "      <td>0.900409</td>\n",
       "    </tr>\n",
       "    <tr>\n",
       "      <th>14</th>\n",
       "      <td>215</td>\n",
       "      <td>mae_on_train</td>\n",
       "      <td>0.893660</td>\n",
       "    </tr>\n",
       "    <tr>\n",
       "      <th>15</th>\n",
       "      <td>464</td>\n",
       "      <td>mae_on_train</td>\n",
       "      <td>0.889453</td>\n",
       "    </tr>\n",
       "    <tr>\n",
       "      <th>16</th>\n",
       "      <td>1000</td>\n",
       "      <td>mae_on_train</td>\n",
       "      <td>0.887281</td>\n",
       "    </tr>\n",
       "    <tr>\n",
       "      <th>17</th>\n",
       "      <td>2154</td>\n",
       "      <td>mae_on_train</td>\n",
       "      <td>0.883493</td>\n",
       "    </tr>\n",
       "    <tr>\n",
       "      <th>18</th>\n",
       "      <td>4641</td>\n",
       "      <td>mae_on_train</td>\n",
       "      <td>0.879622</td>\n",
       "    </tr>\n",
       "    <tr>\n",
       "      <th>19</th>\n",
       "      <td>10000</td>\n",
       "      <td>mae_on_train</td>\n",
       "      <td>0.882368</td>\n",
       "    </tr>\n",
       "  </tbody>\n",
       "</table>\n",
       "</div>"
      ],
      "text/plain": [
       "    n_estimators      variable     value\n",
       "0             10   mae_on_test  2.239449\n",
       "1             21   mae_on_test  2.136558\n",
       "2             46   mae_on_test  2.155632\n",
       "3            100   mae_on_test  2.148126\n",
       "4            215   mae_on_test  2.119443\n",
       "5            464   mae_on_test  2.130099\n",
       "6           1000   mae_on_test  2.122411\n",
       "7           2154   mae_on_test  2.110636\n",
       "8           4641   mae_on_test  2.111812\n",
       "9          10000   mae_on_test  2.111416\n",
       "10            10  mae_on_train  1.025040\n",
       "11            21  mae_on_train  0.933233\n",
       "12            46  mae_on_train  0.937358\n",
       "13           100  mae_on_train  0.900409\n",
       "14           215  mae_on_train  0.893660\n",
       "15           464  mae_on_train  0.889453\n",
       "16          1000  mae_on_train  0.887281\n",
       "17          2154  mae_on_train  0.883493\n",
       "18          4641  mae_on_train  0.879622\n",
       "19         10000  mae_on_train  0.882368"
      ]
     },
     "execution_count": 16,
     "metadata": {},
     "output_type": "execute_result"
    }
   ],
   "source": [
    "dfm = forest_measurements[[\"n_estimators\", \"mae_on_test\", \"mae_on_train\"]].melt(\n",
    "    \"n_estimators\"\n",
    ")\n",
    "dfm"
   ]
  },
  {
   "cell_type": "code",
   "execution_count": 17,
   "metadata": {},
   "outputs": [
    {
     "data": {
      "text/plain": [
       "<AxesSubplot: xlabel='n_estimators', ylabel='value'>"
      ]
     },
     "execution_count": 17,
     "metadata": {},
     "output_type": "execute_result"
    },
    {
     "data": {
      "image/png": "[encoded data removed]",
      "text/plain": [
       "<Figure size 640x480 with 1 Axes>"
      ]
     },
     "metadata": {},
     "output_type": "display_data"
    }
   ],
   "source": [
    "sns.pointplot(data=dfm, x=\"n_estimators\", y=\"value\", hue=\"variable\")"
   ]
  },
  {
   "cell_type": "markdown",
   "metadata": {},
   "source": [
    "**Ваши выводы**:\n",
    "\n",
    "С ростом количества деревьев линейно растет время обучения(график выглядит экспонентой потому что шкала экспоненциальная)\n",
    "\n",
    "С ростом количества деревьев mae падает, но потом держит свое значение, несмотря на то, что мы должны наблюдать эффект переобучения. Вохможно, это происходит из-за недостаточного количества деревьев."
   ]
  },
  {
   "cell_type": "markdown",
   "metadata": {
    "pycharm": {
     "name": "#%% md\n"
    }
   },
   "source": [
    "Как мы с вами знаем, случайный лес постепенно улучшает качество предсказаний, увеличивая число деревьев в ансамбле. А что если мы обучили лес, но хотим `нарастить` его, добавив несколько деревьев? Или даже если к нам пришли новые данные и мы хотим добавить деревьев, обученных на них, но не удалять деревья, построенные на предыдущих данных? Такой трюк возможен, и для этого следует использовать warm_start. То, как правильно использовать warm_start можно глянуть [тут](https://stackoverflow.com/questions/42757892/how-to-use-warm-start/42763502)\n",
    "\n",
    "### Задание 3.2 (кросс-проверка, 5 баллов)\n",
    "**Данные**: датасет со стоимостью недвижимости в Бостоне   \n",
    "**Метрика качества**: MAE  \n",
    "**Цели**: В данном задании следует выполнить следующие пункты:  \n",
    "\n",
    "1. Создайте случайный лес со следующими параметрами: n_estimators = 1000, warm_start = True, random_state=42\n",
    "2. Обучите полученный лес, засекая время, потраченное на обучение, и измерив качество предсказания на тесте по MAE\n",
    "3. Увеличьте число деревьев в лесу. Для этого увеличьте число n_estimators на 1000.\n",
    "4. Воспользуйтесь методом fit, чтобы дообучить новые деревья. Не забудьте замерить время и качество!\n",
    "5. Повторяйте два предыдущих шага до тех пор, пока вы не оцените лес с 10000 деревьями.\n",
    "6. Постройте графики качества и времени от количества деревьев (время считайте отдельно для каждого дообучения, без учета затрат на предыдущие итерации)\n",
    "7. Проанализируйте результаты и графики, сделайте выводы про время обучения и качество, сравните с результатом из предыдущего пункта"
   ]
  },
  {
   "cell_type": "code",
   "execution_count": 18,
   "metadata": {
    "pycharm": {
     "name": "#%%\n"
    }
   },
   "outputs": [],
   "source": [
    "random_forest = RandomForestRegressor(\n",
    "    n_estimators=1000, warm_start=True, random_state=42\n",
    ")\n",
    "measurements_list = list()\n",
    "X_train_chunks = np.array_split(X_train, 10)\n",
    "y_train_chunks = np.array_split(y_train, 10)"
   ]
  },
  {
   "cell_type": "code",
   "execution_count": 19,
   "metadata": {},
   "outputs": [],
   "source": [
    "for i in range(10):\n",
    "    start_time = time.time()\n",
    "    random_forest.fit(X_train_chunks[i], y_train_chunks[i])\n",
    "    stop_time = time.time()\n",
    "    predict = random_forest.predict(X_test)\n",
    "    err = mean_absolute_error(y_test, predict)\n",
    "    measurements_list.append(\n",
    "        {\n",
    "            \"n_estimators\": random_forest.n_estimators,\n",
    "            \"time_to_fit\": stop_time - start_time,\n",
    "            \"mae\": err,\n",
    "        }\n",
    "    )\n",
    "    random_forest.n_estimators += 1000\n",
    "\n",
    "measurements = pd.DataFrame(measurements_list)"
   ]
  },
  {
   "cell_type": "code",
   "execution_count": 20,
   "metadata": {},
   "outputs": [
    {
     "data": {
      "text/plain": [
       "<AxesSubplot: xlabel='n_estimators', ylabel='time_to_fit'>"
      ]
     },
     "execution_count": 20,
     "metadata": {},
     "output_type": "execute_result"
    },
    {
     "data": {
      "image/png": "[encoded data removed]",
      "text/plain": [
       "<Figure size 640x480 with 1 Axes>"
      ]
     },
     "metadata": {},
     "output_type": "display_data"
    }
   ],
   "source": [
    "sns.pointplot(data=measurements, x=\"n_estimators\", y=\"time_to_fit\")"
   ]
  },
  {
   "cell_type": "code",
   "execution_count": 21,
   "metadata": {},
   "outputs": [
    {
     "data": {
      "text/plain": [
       "5.943742752075195"
      ]
     },
     "execution_count": 21,
     "metadata": {},
     "output_type": "execute_result"
    }
   ],
   "source": [
    "np.sum(measurements[\"time_to_fit\"])"
   ]
  },
  {
   "cell_type": "code",
   "execution_count": 22,
   "metadata": {},
   "outputs": [
    {
     "data": {
      "text/plain": [
       "<AxesSubplot: xlabel='n_estimators', ylabel='mae'>"
      ]
     },
     "execution_count": 22,
     "metadata": {},
     "output_type": "execute_result"
    },
    {
     "data": {
      "image/png": "[encoded data removed]",
      "text/plain": [
       "<Figure size 640x480 with 1 Axes>"
      ]
     },
     "metadata": {},
     "output_type": "display_data"
    }
   ],
   "source": [
    "sns.pointplot(data=measurements, x=\"n_estimators\", y=\"mae\")"
   ]
  },
  {
   "cell_type": "markdown",
   "metadata": {},
   "source": [
    "**Ваши выводы**: \n",
    "\n",
    "Заметно, что `warm_start` позволяет ускорить время обучения модели(даже если учесть тот факт, что в замерах в данном пункте учитывается время для кждой итерации). \n",
    " - на обучение без `warm_start` на 10000 деревьев - ~17.5 секунд\n",
    " - на обучение с `warm_start` на 10000 деревьев - ~7.3 секунды\n",
    "\n",
    "На большом количестве деревьев(7000-10000) заметно, что значение mae сопоставимо, однако для низких значений(1000-7000) mae при `warm_start` значительно выше \n"
   ]
  },
  {
   "cell_type": "markdown",
   "metadata": {},
   "source": [
    "## Важность признаков\n",
    "\n",
    "**Внимание!** Для выполнения этого задания вам понадобится публичный датасет из задания `Деревья решений (ML)` на cv-gml.ru. Пожалуйста, выполните эти пункты:\n",
    "\n",
    "1. Скачайте архив `Публичные тесты` задания `Деревья решений (ML)` и разархивируйте его в любом удобном для вас месте.\n",
    "2. Найдите переменную `path_to_dataset`, расположенную на первой строке следующей ячейки, и измените её значение на полный путь до папки `[ПАПКА_ИЗВЛЕЧЕНИЯ]/public_tests/01_test_potentials_input/train/potentials`\n",
    "\n",
    "С этого момента мы изменим датасет и попытаемся поиграться с физикой: возьмем коллекцию различных потенциалов и для них будем предсказывать некоторую физическую величину. Обученные физики говорят, что эта величина зависит от формы и глубины потенциала, а значит и мы можем тут чему-то научиться. Ранее эту задачу пытались решить с помощью сверточных нейронных сетей. А получится ли это у нас с помощью деревьев?\n",
    "\n",
    "Загрузим датасет и посмотрим как он выглядит:\n",
    "\n"
   ]
  },
  {
   "cell_type": "code",
   "execution_count": 23,
   "metadata": {},
   "outputs": [],
   "source": [
    "sns.reset_orig()"
   ]
  },
  {
   "cell_type": "code",
   "execution_count": null,
   "metadata": {
    "pycharm": {
     "name": "#%%\n"
    }
   },
   "outputs": [],
   "source": [
    "path_to_dataset = \"./potential/public_tests/01_test_potentials_input/train/potentials\"\n",
    "\n",
    "chosen_ones = {\n",
    "    \"b2399918793e4228a3ea0a0a89adf11b.npz\",\n",
    "    \"513d5523d14c47feb8b544138071c496.npz\",\n",
    "    \"ca9f96c404b740e3b28f583f9d9afbf8.npz\",\n",
    "}\n",
    "\n",
    "plt.figure(figsize=(12, 10))\n",
    "\n",
    "\n",
    "def get_potential_dataset():\n",
    "\n",
    "    global path_to_dataset\n",
    "\n",
    "    \"\"\"Return the training and testing splits of the potential dataset\"\"\"\n",
    "    X, y = [], []\n",
    "\n",
    "    plot_index = 1\n",
    "\n",
    "    if not path_to_dataset.endswith(\"/\"):\n",
    "        path_to_dataset += \"/\"\n",
    "\n",
    "    for f in os.listdir(path_to_dataset):\n",
    "\n",
    "        npz = np.load(f\"{path_to_dataset}{f}\")\n",
    "        data, target = npz[\"data\"], npz[\"target\"]\n",
    "\n",
    "        X.append(data)\n",
    "        y.append(target)\n",
    "\n",
    "        if f in chosen_ones:\n",
    "            plt.subplot(len(chosen_ones), 1, plot_index)\n",
    "            plt.imshow(data, origin=\"lower\", interpolation=\"none\")\n",
    "            plt.colorbar()\n",
    "            plot_index += 1\n",
    "    plt.show()\n",
    "    return train_test_split(np.array(X), np.array(y), random_state=42)\n",
    "\n",
    "\n",
    "X_train, X_test, y_train, y_test = get_potential_dataset()"
   ]
  },
  {
   "cell_type": "markdown",
   "metadata": {},
   "source": [
    "Можно увидеть, что у нас имеется три типа потенциалов: два с бесконечно крутыми стенками, квадратный и эллиптический (их значение резко меняется на 0) и гармонический (красивый круглый, он плавно спускается к своему минимуму). В местах, где потенциала нет, значение матрицы равно 20.\n",
    "\n",
    "Видно одну проблему: картинки квадратные (каждое изображение `256 х 256`), а большинство методов машинного обучение работает с векторами-признаками, и нам придется с этим позже разобраться. И еще более крупная проблема: потенциалы находятся в \"случайных\" местах рисунка. Возможно, позже нам придется с этим разобраться. Но вернёмся к нашим баранам. У линейных регрессоров есть одно очень полезное свойство: после обучения мы ``из коробки`` получаем важность признаков: чем выше коэффициент (или абсолютное его значение), стоящий у соответствующего признака, тем он важнее. Деревья решений не обладают столь же ``естественной`` оценкой важности признаков, однако мы всё равно можем её оценить. Называется эта оценка критерием Джини: она вычисляет то, как начинают ``ошибаться`` предсказания регрессора, если исключить данный признак. Чем сильнее ошибка, тем важнее признак. К нашей радости, sklearn так же ``из коробки`` включает данные оценки признаков. Давайте попробуем воспользоваться этой функцией и посмотреть на важность признаков."
   ]
  },
  {
   "cell_type": "markdown",
   "metadata": {},
   "source": [
    "### Задание 4.1 (кросс-проверка, 5 баллов)\n",
    "**Данные**: потенциалы  \n",
    "**Метрика качества**: MAE  \n",
    "**Цели**: В данном задании следует выполнить следующие пункты:  \n",
    "1. Воспользоваться классом PotentialTransformer для преобразования двумерной матрицы в одномерный вектор\n",
    "2. Воспользоваться классом Pipeline, чтобы \"объединить\" трансформатор и обучаемый метод\n",
    "3. Обучить LinearSVR из sklearn на этом датасете.\n",
    "4. Обучить RandomForestRegressor из sklearn на этом датасете.\n",
    "5. Извлеките важность признаков из обученного леса с помощью `feature_importances_`. Извлеките также коэффициенты svm через `coef_` (брать абсолютные значения необязательно).\n",
    "6. Преобразуйте одномерный вектор важностей признаков в двумерную картинку таким образом, чтобы их можно было сравнивать с исходными потенциалами. Постройте рисунки важностей признаков с помощью plt.imshow. Добавьте легенду.\n",
    "7. Оцените качество предсказаний через метод .predict.\n",
    "8. Проанализируйте результаты. Можно ли сказать что у обоих методов получились одинаковые важности признаков? Можно ли сказать, что важность признаков отображает структуру потенциалов?"
   ]
  },
  {
   "cell_type": "code",
   "execution_count": 25,
   "metadata": {
    "pycharm": {
     "name": "#%%\n"
    }
   },
   "outputs": [],
   "source": [
    "class PotentialTransformer:\n",
    "    \"\"\"\n",
    "    A potential transformer.\n",
    "\n",
    "    This class is used to convert the potential's 2d matrix to 1d vector of features.\n",
    "    \"\"\"\n",
    "\n",
    "    def fit(self, x, y):\n",
    "        \"\"\"\n",
    "        Build the transformer on the training set.\n",
    "        :param x: list of potential's 2d matrices\n",
    "        :param y: target values (can be ignored)\n",
    "        :return: trained transformer\n",
    "        \"\"\"\n",
    "        return self\n",
    "\n",
    "    def fit_transform(self, x, y):\n",
    "        \"\"\"\n",
    "        Build the transformer on the training set and return the transformed dataset (1d vectors).\n",
    "        :param x: list of potential's 2d matrices\n",
    "        :param y: target values (can be ignored)\n",
    "        :return: transformed potentials (list of 1d vectors)\n",
    "        \"\"\"\n",
    "        return self.transform(x)\n",
    "\n",
    "    def transform(self, x):\n",
    "        \"\"\"\n",
    "        Transform the list of potential's 2d matrices with the trained transformer.\n",
    "        :param x: list of potential's 2d matrices\n",
    "        :return: transformed potentials (list of 1d vectors)\n",
    "        \"\"\"\n",
    "        return x.reshape((x.shape[0], -1))"
   ]
  },
  {
   "cell_type": "code",
   "execution_count": 26,
   "metadata": {},
   "outputs": [
    {
     "data": {
      "text/plain": [
       "array([[9.10300e-02, 0.00000e+00, 2.46000e+00, ..., 1.78000e+01,\n",
       "        3.94120e+02, 4.82000e+00],\n",
       "       [3.53501e+00, 0.00000e+00, 1.95800e+01, ..., 1.47000e+01,\n",
       "        8.80100e+01, 1.50200e+01],\n",
       "       [3.57800e-02, 2.00000e+01, 3.33000e+00, ..., 1.49000e+01,\n",
       "        3.87310e+02, 3.76000e+00],\n",
       "       ...,\n",
       "       [1.50100e-02, 8.00000e+01, 2.01000e+00, ..., 1.70000e+01,\n",
       "        3.90940e+02, 5.99000e+00],\n",
       "       [1.11604e+01, 0.00000e+00, 1.81000e+01, ..., 2.02000e+01,\n",
       "        1.09850e+02, 2.32700e+01],\n",
       "       [2.28760e-01, 0.00000e+00, 8.56000e+00, ..., 2.09000e+01,\n",
       "        7.08000e+01, 1.06300e+01]])"
      ]
     },
     "execution_count": 26,
     "metadata": {},
     "output_type": "execute_result"
    }
   ],
   "source": [
    "vectorizer = PotentialTransformer()\n",
    "vectorizer.transform(X_train)"
   ]
  },
  {
   "cell_type": "code",
   "execution_count": 27,
   "metadata": {},
   "outputs": [],
   "source": [
    "svr_pipeline = Pipeline(\n",
    "    [\n",
    "        (\"vectorizer\", PotentialTransformer()),\n",
    "        (\"scaler\", StandardScaler()),\n",
    "        (\"SVM\", LinearSVR(dual=True)),\n",
    "    ]\n",
    ")\n",
    "rf_pipeline = Pipeline(\n",
    "    [(\"vectorizer\", PotentialTransformer()), (\"decision_tree\", RandomForestRegressor())]\n",
    ")"
   ]
  },
  {
   "cell_type": "code",
   "execution_count": 28,
   "metadata": {},
   "outputs": [
    {
     "data": {
      "text/html": [
       "<style>#sk-container-id-4 {color: black;background-color: white;}#sk-container-id-4 pre{padding: 0;}#sk-container-id-4 div.sk-toggleable {background-color: white;}#sk-container-id-4 label.sk-toggleable__label {cursor: pointer;display: block;width: 100%;margin-bottom: 0;padding: 0.3em;box-sizing: border-box;text-align: center;}#sk-container-id-4 label.sk-toggleable__label-arrow:before {content: \"▸\";float: left;margin-right: 0.25em;color: #696969;}#sk-container-id-4 label.sk-toggleable__label-arrow:hover:before {color: black;}#sk-container-id-4 div.sk-estimator:hover label.sk-toggleable__label-arrow:before {color: black;}#sk-container-id-4 div.sk-toggleable__content {max-height: 0;max-width: 0;overflow: hidden;text-align: left;background-color: #f0f8ff;}#sk-container-id-4 div.sk-toggleable__content pre {margin: 0.2em;color: black;border-radius: 0.25em;background-color: #f0f8ff;}#sk-container-id-4 input.sk-toggleable__control:checked~div.sk-toggleable__content {max-height: 200px;max-width: 100%;overflow: auto;}#sk-container-id-4 input.sk-toggleable__control:checked~label.sk-toggleable__label-arrow:before {content: \"▾\";}#sk-container-id-4 div.sk-estimator input.sk-toggleable__control:checked~label.sk-toggleable__label {background-color: #d4ebff;}#sk-container-id-4 div.sk-label input.sk-toggleable__control:checked~label.sk-toggleable__label {background-color: #d4ebff;}#sk-container-id-4 input.sk-hidden--visually {border: 0;clip: rect(1px 1px 1px 1px);clip: rect(1px, 1px, 1px, 1px);height: 1px;margin: -1px;overflow: hidden;padding: 0;position: absolute;width: 1px;}#sk-container-id-4 div.sk-estimator {font-family: monospace;background-color: #f0f8ff;border: 1px dotted black;border-radius: 0.25em;box-sizing: border-box;margin-bottom: 0.5em;}#sk-container-id-4 div.sk-estimator:hover {background-color: #d4ebff;}#sk-container-id-4 div.sk-parallel-item::after {content: \"\";width: 100%;border-bottom: 1px solid gray;flex-grow: 1;}#sk-container-id-4 div.sk-label:hover label.sk-toggleable__label {background-color: #d4ebff;}#sk-container-id-4 div.sk-serial::before {content: \"\";position: absolute;border-left: 1px solid gray;box-sizing: border-box;top: 0;bottom: 0;left: 50%;z-index: 0;}#sk-container-id-4 div.sk-serial {display: flex;flex-direction: column;align-items: center;background-color: white;padding-right: 0.2em;padding-left: 0.2em;position: relative;}#sk-container-id-4 div.sk-item {position: relative;z-index: 1;}#sk-container-id-4 div.sk-parallel {display: flex;align-items: stretch;justify-content: center;background-color: white;position: relative;}#sk-container-id-4 div.sk-item::before, #sk-container-id-4 div.sk-parallel-item::before {content: \"\";position: absolute;border-left: 1px solid gray;box-sizing: border-box;top: 0;bottom: 0;left: 50%;z-index: -1;}#sk-container-id-4 div.sk-parallel-item {display: flex;flex-direction: column;z-index: 1;position: relative;background-color: white;}#sk-container-id-4 div.sk-parallel-item:first-child::after {align-self: flex-end;width: 50%;}#sk-container-id-4 div.sk-parallel-item:last-child::after {align-self: flex-start;width: 50%;}#sk-container-id-4 div.sk-parallel-item:only-child::after {width: 0;}#sk-container-id-4 div.sk-dashed-wrapped {border: 1px dashed gray;margin: 0 0.4em 0.5em 0.4em;box-sizing: border-box;padding-bottom: 0.4em;background-color: white;}#sk-container-id-4 div.sk-label label {font-family: monospace;font-weight: bold;display: inline-block;line-height: 1.2em;}#sk-container-id-4 div.sk-label-container {text-align: center;}#sk-container-id-4 div.sk-container {/* jupyter's `normalize.less` sets `[hidden] { display: none; }` but bootstrap.min.css set `[hidden] { display: none !important; }` so we also need the `!important` here to be able to override the default hidden behavior on the sphinx rendered scikit-learn.org. See: https://github.com/scikit-learn/scikit-learn/issues/21755 */display: inline-block !important;position: relative;}#sk-container-id-4 div.sk-text-repr-fallback {display: none;}</style><div id=\"sk-container-id-4\" class=\"sk-top-container\"><div class=\"sk-text-repr-fallback\"><pre>Pipeline(steps=[(&#x27;vectorizer&#x27;,\n",
       "                 &lt;__main__.PotentialTransformer object at 0x7fb448cf6f80&gt;),\n",
       "                (&#x27;decision_tree&#x27;, RandomForestRegressor())])</pre><b>In a Jupyter environment, please rerun this cell to show the HTML representation or trust the notebook. <br />On GitHub, the HTML representation is unable to render, please try loading this page with nbviewer.org.</b></div><div class=\"sk-container\" hidden><div class=\"sk-item sk-dashed-wrapped\"><div class=\"sk-label-container\"><div class=\"sk-label sk-toggleable\"><input class=\"sk-toggleable__control sk-hidden--visually\" id=\"sk-estimator-id-4\" type=\"checkbox\" ><label for=\"sk-estimator-id-4\" class=\"sk-toggleable__label sk-toggleable__label-arrow\">Pipeline</label><div class=\"sk-toggleable__content\"><pre>Pipeline(steps=[(&#x27;vectorizer&#x27;,\n",
       "                 &lt;__main__.PotentialTransformer object at 0x7fb448cf6f80&gt;),\n",
       "                (&#x27;decision_tree&#x27;, RandomForestRegressor())])</pre></div></div></div><div class=\"sk-serial\"><div class=\"sk-item\"><div class=\"sk-estimator sk-toggleable\"><input class=\"sk-toggleable__control sk-hidden--visually\" id=\"sk-estimator-id-5\" type=\"checkbox\" ><label for=\"sk-estimator-id-5\" class=\"sk-toggleable__label sk-toggleable__label-arrow\">PotentialTransformer</label><div class=\"sk-toggleable__content\"><pre>&lt;__main__.PotentialTransformer object at 0x7fb448cf6f80&gt;</pre></div></div></div><div class=\"sk-item\"><div class=\"sk-estimator sk-toggleable\"><input class=\"sk-toggleable__control sk-hidden--visually\" id=\"sk-estimator-id-6\" type=\"checkbox\" ><label for=\"sk-estimator-id-6\" class=\"sk-toggleable__label sk-toggleable__label-arrow\">RandomForestRegressor</label><div class=\"sk-toggleable__content\"><pre>RandomForestRegressor()</pre></div></div></div></div></div></div></div>"
      ],
      "text/plain": [
       "Pipeline(steps=[('vectorizer',\n",
       "                 <__main__.PotentialTransformer object at 0x7fb448cf6f80>),\n",
       "                ('decision_tree', RandomForestRegressor())])"
      ]
     },
     "execution_count": 28,
     "metadata": {},
     "output_type": "execute_result"
    }
   ],
   "source": [
    "from sklearn.exceptions import ConvergenceWarning\n",
    "\n",
    "# фильтруем варнинги чтобы сохранить анонимность))\n",
    "warnings.filterwarnings(\"ignore\", category=ConvergenceWarning)\n",
    "svr_pipeline.fit(X_train, y_train)\n",
    "rf_pipeline.fit(X_train, y_train)"
   ]
  },
  {
   "cell_type": "code",
   "execution_count": 29,
   "metadata": {},
   "outputs": [
    {
     "data": {
      "text/plain": [
       "array([0.03296185, 0.00215326, 0.00650062, 0.00123263, 0.0141173 ,\n",
       "       0.41298287, 0.0141391 , 0.06660448, 0.00750329, 0.01077004,\n",
       "       0.01791273, 0.01174767, 0.40137415])"
      ]
     },
     "execution_count": 29,
     "metadata": {},
     "output_type": "execute_result"
    }
   ],
   "source": [
    "rf_features = rf_pipeline.steps[1][1].feature_importances_\n",
    "rf_features"
   ]
  },
  {
   "cell_type": "code",
   "execution_count": 30,
   "metadata": {},
   "outputs": [
    {
     "data": {
      "text/plain": [
       "array([-1.0939826 ,  0.61335015,  0.32032092,  0.323823  , -0.74549935,\n",
       "        4.44099946, -1.27941926, -2.11327712,  0.70114904, -1.22491404,\n",
       "       -1.50634304,  1.30649135, -1.85480788])"
      ]
     },
     "execution_count": 30,
     "metadata": {},
     "output_type": "execute_result"
    }
   ],
   "source": [
    "svm_features = svr_pipeline.steps[2][1].coef_\n",
    "svm_features"
   ]
  },
  {
   "cell_type": "code",
   "execution_count": null,
   "metadata": {},
   "outputs": [],
   "source": [
    "rf_features = rf_features.reshape((256, -1))\n",
    "plt.imshow(rf_features, origin=\"lower\", interpolation=\"none\")\n",
    "plt.colorbar()\n",
    "plt.show()"
   ]
  },
  {
   "cell_type": "code",
   "execution_count": null,
   "metadata": {},
   "outputs": [],
   "source": [
    "svm_features = svm_features.reshape((256, -1))\n",
    "plt.imshow(svm_features, origin=\"lower\", interpolation=\"none\")\n",
    "plt.colorbar()\n",
    "plt.show()"
   ]
  },
  {
   "cell_type": "code",
   "execution_count": 33,
   "metadata": {},
   "outputs": [
    {
     "data": {
      "text/plain": [
       "2.1321259842519673"
      ]
     },
     "execution_count": 33,
     "metadata": {},
     "output_type": "execute_result"
    }
   ],
   "source": [
    "rf_predict = rf_pipeline.predict(X_test)\n",
    "mean_absolute_error(y_test, rf_predict)"
   ]
  },
  {
   "cell_type": "code",
   "execution_count": 34,
   "metadata": {},
   "outputs": [
    {
     "data": {
      "text/plain": [
       "3.1157272727650964"
      ]
     },
     "execution_count": 34,
     "metadata": {},
     "output_type": "execute_result"
    }
   ],
   "source": [
    "svr_predict = svr_pipeline.predict(X_test)\n",
    "mean_absolute_error(y_test, svr_predict)"
   ]
  },
  {
   "cell_type": "markdown",
   "metadata": {},
   "source": [
    "**Ваши выводы**:\n",
    "\n",
    "Как видно, случайный лес показывает себя гораздо лучше svm в терминах MAE. Однако, можно заметить, что без должной предобработки даже случайный лес дает очень \"скомканное\" представление о важностях признаков. Не могу сказать, что картинка важности признаков отображает признаки потенциалов  \n",
    "\n",
    "В коэфициентах SVR отчетливо видны все фигуры потенциалов обучения\n"
   ]
  },
  {
   "cell_type": "markdown",
   "metadata": {
    "pycharm": {
     "name": "#%% md\n"
    }
   },
   "source": [
    "Если всё сделано верно, то в предыдущем задании вы должны были увидеть некоторый сумбур в коэффициентах svm. Можно увидеть, как некоторые потенциалы \"отпечатались\" в признаках, т.е. метод явно запомнил ответ, не пытаясь их обобщить. Видимо, нужно каким-то образом \"стандартизировать\" потенциалы, чтобы было легче \"обобщать\" их. К примеру, можно попробовать параллельно передвигать потенциал таким образом, чтобы в центре всегда оказывалось минимальное значение (места на матрице, не заполненные потенциалами, заполняются 20). Возможно вы заметите и другие \"проблемы\" или найдёте более элегантные решения, которые смогут помочь Вам улучшить результат.\n",
    "\n",
    "**Внимание!** В этом задании разрешено пользоваться лишь методами, основанными на деревьях решений и их ансамблях (лесах). Пользоваться бустингом лесов нельзя (про них будет отдельное домашнее задание). Со списком лесов, которые реализованы в пакете sklearn.ensemble, можно ознакомиться [тут](https://scikit-learn.org/stable/modules/classes.html#module-sklearn.ensemble). По описанию метода убедитесь, что бустинг в нём не применяется.\n",
    "\n",
    "В задании на cv-gml.ru установлено ограничение по времени обучения в 10 минут. Поэтому, если вы будете перебирать параметры по сетке, то такой перебор может вполне занять несколько часов. Однако учтите, что время обучения леса зависит от способности леса построить оптимальное разбиение! Если ваше обучение проходит непозволительно долго, то, вероятно, лесам не удаётся подобрать хорошее оптимальное разбиение, а значит вам нужно подумать об ином трансформаторе."
   ]
  },
  {
   "cell_type": "markdown",
   "metadata": {},
   "source": [
    "**Внимание! Следующее задание проверяться на кросс-проверке НЕ БУДЕТ! Это решение нужно будет загрузить в проверяющую систему в задание `Деревья решений (ML)`** Здесь вы можете просто поиграть с данными и решением, подобрать оптимальные параметры на кросс-валидации"
   ]
  },
  {
   "cell_type": "markdown",
   "metadata": {},
   "source": [
    "### Задание 4.2 (ML-задание, 15 баллов)\n",
    "**Данные**: потенциалы  \n",
    "**Метрика качества**: MAE  \n",
    "**Цели**: В данном задании следует выполнить следующие пункты:  \n",
    "1. Улучшить метод PotentialTransformer, чтобы \"стандартизировать\" данные (к примеру, переносить потенциалы в одно и то же место)\n",
    "2. Воспользоваться классом Pipeline, чтобы \"объединить\" трансформатор и обучаемый метод\n",
    "3. Обучить лучшие деревья на диком западе (можно воспользоваться любой реализацией лесов из sklearn).\n",
    "4. Отобразить важность признаков получившегося дерева/леса\n",
    "5. Загрузить решение в тестирующую систему"
   ]
  },
  {
   "cell_type": "code",
   "execution_count": 36,
   "metadata": {
    "pycharm": {
     "name": "#%%\n"
    }
   },
   "outputs": [],
   "source": [
    "# Your code here:"
   ]
  },
  {
   "cell_type": "markdown",
   "metadata": {},
   "source": [
    "Ну что, детишки. Поздравляю с еще одним выполненным ДЗ!\n",
    "\n"
   ]
  }
 ],
 "metadata": {
  "kernelspec": {
   "display_name": "cmc-ml-course-hGB4l2-9",
   "language": "python",
   "name": "python3"
  },
  "language_info": {
   "codemirror_mode": {
    "name": "ipython",
    "version": 3
   },
   "file_extension": ".py",
   "mimetype": "text/x-python",
   "name": "python",
   "nbconvert_exporter": "python",
   "pygments_lexer": "ipython3",
   "version": "3.10.6"
  },
  "vscode": {
   "interpreter": {
    "hash": "a05ce3cd887b727c110526dbffba1fc5267859d901c6549595548be3c8d1f4cd"
   }
  }
 },
 "nbformat": 4,
 "nbformat_minor": 1
}
